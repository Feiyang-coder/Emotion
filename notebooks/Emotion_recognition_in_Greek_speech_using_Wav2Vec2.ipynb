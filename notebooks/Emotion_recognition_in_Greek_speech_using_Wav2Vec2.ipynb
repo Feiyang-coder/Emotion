{
  "nbformat": 4,
  "nbformat_minor": 0,
  "metadata": {
    "colab": {
      "name": "Emotion recognition in Greek speech using Wav2Vec2.ipynb",
      "provenance": []
    },
    "kernelspec": {
      "name": "python3",
      "display_name": "Python 3"
    },
    "language_info": {
      "name": "python"
    },
    "accelerator": "GPU"
  },
  "cells": [
    {
      "cell_type": "markdown",
      "metadata": {
        "id": "5fbCls1d2yBs"
      },
      "source": [
        "# Emotion Recognition in Greek Speech Using Wav2Vec 2.0"
      ]
    },
    {
      "cell_type": "markdown",
      "metadata": {
        "id": "sp37lZOV2042"
      },
      "source": [
        "**Wav2Vec 2.0** is a pretrained model for Automatic Speech Recognition (ASR) and was released in [September 2020](https://ai.facebook.com/blog/wav2vec-20-learning-the-structure-of-speech-from-raw-audio/) by Alexei Baevski, Michael Auli, and Alex Conneau.  Soon after the superior performance of Wav2Vec2 was demonstrated on the English ASR dataset LibriSpeech, *Facebook AI* presented XLSR-Wav2Vec2 (click [here](https://arxiv.org/abs/2006.13979)). XLSR stands for *cross-lingual  speech representations* and refers to XLSR-Wav2Vec2`s ability to learn speech representations that are useful across multiple languages.\n",
        "\n",
        "Similar to Wav2Vec2, XLSR-Wav2Vec2 learns powerful speech representations from hundreds of thousands of hours of speech in more than 50 languages of unlabeled speech. Similar, to [BERT's masked language modeling](http://jalammar.github.io/illustrated-bert/), the model learns contextualized speech representations by randomly masking feature vectors before passing them to a transformer network.\n",
        "\n",
        "![wav2vec2_structure](https://raw.githubusercontent.com/patrickvonplaten/scientific_images/master/xlsr_wav2vec2.png)\n",
        "\n",
        "The authors show for the first time that massively pretraining an ASR model on cross-lingual unlabeled speech data, followed by language-specific fine-tuning on very little labeled data achieves state-of-the-art results. See Table 1-5 of the official [paper](https://arxiv.org/pdf/2006.13979.pdf)."
      ]
    },
    {
      "cell_type": "markdown",
      "metadata": {
        "id": "y0xJwDkA3QQR"
      },
      "source": [
        "During fine-tuning week hosted by HuggingFace, more than 300 people participated in tuning XLSR-Wav2Vec2's pretrained on low-resources ASR dataset for more than 50 languages. This model is fine-tuned using [Connectionist Temporal Classification](https://distill.pub/2017/ctc/) (CTC), an algorithm used to train neural networks for sequence-to-sequence problems and mainly in Automatic Speech Recognition and handwriting recognition. Follow this [notebook](https://colab.research.google.com/github/patrickvonplaten/notebooks/blob/master/Fine_Tune_XLSR_Wav2Vec2_on_Turkish_ASR_with_%F0%9F%A4%97_Transformers.ipynb#scrollTo=Gx9OdDYrCtQ1) for more information about XLSR-Wav2Vec2 fine-tuning.\n",
        "\n",
        "This model was shown significant results in many low-resources languages. You can see the [competition board](https://paperswithcode.com/dataset/common-voice) or even testing the models from the [HuggingFace hub](https://huggingface.co/models?filter=xlsr-fine-tuning-week).\n",
        "\n",
        "\n",
        "In this notebook, we will go through how to use this model to recognize the emotional aspects of speech in a language (or even as a general view using for every classification problem). Before going any further, we need to install some handy packages and define some enviroment values."
      ]
    },
    {
      "cell_type": "code",
      "metadata": {
        "id": "TYsw43ULuXC_"
      },
      "source": [
        "%%capture\n",
        "\n",
        "!pip install git+https://github.com/huggingface/datasets.git\n",
        "!pip install git+https://github.com/huggingface/transformers.git\n",
        "!pip install jiwer\n",
        "!pip install torchaudio\n",
        "!pip install librosa\n",
        "\n",
        "# Monitor the training process\n",
        "# !pip install wandb"
      ],
      "execution_count": 1,
      "outputs": []
    },
    {
      "cell_type": "code",
      "metadata": {
        "colab": {
          "base_uri": "https://localhost:8080/"
        },
        "id": "cp4-LTa2uphv",
        "outputId": "33662a80-509f-4e61-9ed5-60da70196ea1"
      },
      "source": [
        "%env LC_ALL=C.UTF-8\n",
        "%env LANG=C.UTF-8\n",
        "%env TRANSFORMERS_CACHE=/content/cache\n",
        "%env HF_DATASETS_CACHE=/content/cache\n",
        "%env CUDA_LAUNCH_BLOCKING=1"
      ],
      "execution_count": 2,
      "outputs": [
        {
          "output_type": "stream",
          "name": "stdout",
          "text": [
            "env: LC_ALL=C.UTF-8\n",
            "env: LANG=C.UTF-8\n",
            "env: TRANSFORMERS_CACHE=/content/cache\n",
            "env: HF_DATASETS_CACHE=/content/cache\n",
            "env: CUDA_LAUNCH_BLOCKING=1\n"
          ]
        }
      ]
    },
    {
      "cell_type": "code",
      "metadata": {
        "id": "A0B06FRmusKF"
      },
      "source": [
        "# # Uncomment this part if you want to setup your wandb project\n",
        "\n",
        "# %env WANDB_WATCH=all\n",
        "# %env WANDB_LOG_MODEL=1\n",
        "# %env WANDB_PROJECT=YOUR_PROJECT_NAME\n",
        "# !wandb login YOUR_API_KEY --relogin"
      ],
      "execution_count": 3,
      "outputs": []
    },
    {
      "cell_type": "markdown",
      "metadata": {
        "id": "krC50MmmvBWJ"
      },
      "source": [
        "## Prepare Data\n",
        "\n",
        "For this particular example, we use [Acted Emotional Speech Dynamic Database – AESDD](http://m3c.web.auth.gr/research/aesdd-speech-emotion-recognition/) provided by Multidisciplinary Media & Mediated Communication Research Group ([M3C](http://m3c.web.auth.gr/)).\n",
        "\n",
        "The Acted Emotional Speech Dynamic Database (AESDD) is a publically available speech emotion recognition dataset that contains utterances of acted emotional speech in the Greek language for five different emotions `sadness`, `disgust`, `happiness`, `anger`, and `fear`.\n",
        "\n",
        "The dataset consists of directories of emotions; each folder includes specific emotions. We need to loop over directories and save the paths related to each class based on the directory name.\n",
        "\n",
        "```bash\n",
        ".\n",
        "├── Tools\\ and\\ Documentation\n",
        "│   ├── ESTrainer.mlapp\n",
        "│   ├── Speech\\ Emotion\\ Recognition\\ Adapted\\ to\\ Multimodal\\ Semantic\\ Repositories_documentation.pdf\n",
        "│   ├── Speech\\ Emotion\\ Recognition\\ for\\ Performance\\ Interaction.pdf\n",
        "│   └── readme.txt\n",
        "├── anger\n",
        "│   ├── a01\\ (1).wav\n",
        "│   ├── a01\\ (2).wav\n",
        "│   ├── ...\n",
        "├── disgust\n",
        "│   ├── d01\\ (1).wav\n",
        "│   ├── d01\\ (2).wav\n",
        "│   ├── ...\n",
        "├── fear\n",
        "│   ├── f01\\ (1).wav\n",
        "│   ├── f01\\ (2).wav\n",
        "│   ├── ...\n",
        "├── happiness\n",
        "│   ├── h01\\ (1).wav\n",
        "│   ├── h01\\ (2).wav\n",
        "│   ├── ...\n",
        "└── sadness\n",
        "    ├── s01\\ (1).wav\n",
        "    ├── s01\\ (2).wav\n",
        "    ├── ...\n",
        "\n",
        "6 directories, 609 files\n",
        "```"
      ]
    },
    {
      "cell_type": "markdown",
      "metadata": {
        "id": "4UVGPPOVCl-Y"
      },
      "source": [
        "Since the dataset is hosted on [Mega](https://mega.nz/#F!0ShVXY7C!-73kVoK05OjTPEA95UUvMw) and unable to access it directly, we upload the dataset on the G-drive to make this tutorial accessible."
      ]
    },
    {
      "cell_type": "code",
      "metadata": {
        "colab": {
          "base_uri": "https://localhost:8080/"
        },
        "id": "nEKDAy2bCGFM",
        "outputId": "b42be6e4-9240-4247-da5d-74713591285f"
      },
      "source": [
        "# Download the dataset from\n",
        "\n",
        "!mkdir -p /content/data\n",
        "!gdown https://drive.google.com/uc?id=1_IAWexEWpH-ly_JaA5EGfZDp-_3flkN1\n",
        "!unzip -q aesdd.zip -d /content/data/\n",
        "!mv \"/content/data/Acted Emotional Speech Dynamic Database/\" /content/data/aesdd/"
      ],
      "execution_count": 4,
      "outputs": [
        {
          "output_type": "stream",
          "name": "stdout",
          "text": [
            "Downloading...\n",
            "From (original): https://drive.google.com/uc?id=1_IAWexEWpH-ly_JaA5EGfZDp-_3flkN1\n",
            "From (redirected): https://drive.google.com/uc?id=1_IAWexEWpH-ly_JaA5EGfZDp-_3flkN1&confirm=t&uuid=00f15d93-0a10-4299-aa6b-eae297f827e5\n",
            "To: /content/aesdd.zip\n",
            "100% 410M/410M [00:10<00:00, 39.0MB/s]\n"
          ]
        }
      ]
    },
    {
      "cell_type": "code",
      "metadata": {
        "id": "pFSqZ0jwCMSv"
      },
      "source": [
        "import numpy as np\n",
        "import pandas as pd\n",
        "\n",
        "from pathlib import Path\n",
        "from tqdm import tqdm\n",
        "\n",
        "import torchaudio\n",
        "from sklearn.model_selection import train_test_split\n",
        "\n",
        "import os\n",
        "import sys"
      ],
      "execution_count": 5,
      "outputs": []
    },
    {
      "cell_type": "code",
      "metadata": {
        "colab": {
          "base_uri": "https://localhost:8080/"
        },
        "id": "7MXAESg_Dqr6",
        "outputId": "8ae33f64-b1a1-4cf3-87e6-b2964ac4b29c"
      },
      "source": [
        "data = [] #初始化空列表用来存放后面加载成功、并附带元信息（名字、路径、情绪标签）的字典对象。\n",
        "\n",
        "for path in tqdm(Path(\"/content/data/aesdd\").glob(\"**/*.wav\")):\n",
        "#递归查找该目录及子目录下所有以 .wav 结尾的文件，返回一个 Path 对象迭代器, 提取文件名和情绪标签。\n",
        "    name = str(path).split('/')[-1].split('.')[0]\n",
        "    label = str(path).split('/')[-2]\n",
        "\n",
        "    try:\n",
        "        # There are some broken files\n",
        "        s = torchaudio.load(path)\n",
        "        #尝试加载音频用 torchaudio.load读取文件，如果文件损坏或格式不对，会抛异常。\n",
        "        data.append({\n",
        "            \"name\": name,\n",
        "            \"path\": path,\n",
        "            \"emotion\": label\n",
        "        })\n",
        "        #加载成功时，把这条样本的信息追加到 data 列表中存成一个字典（音频 ID，Path 对象后面可以直接用它再次加载，文件名推断情绪）\n",
        "    except Exception as e:\n",
        "        # print(str(path), e)\n",
        "        pass#if torchaudio failure then pass\n",
        "\n",
        "    # break"
      ],
      "execution_count": 6,
      "outputs": [
        {
          "output_type": "stream",
          "name": "stderr",
          "text": [
            "605it [00:03, 154.23it/s]\n"
          ]
        }
      ]
    },
    {
      "cell_type": "code",
      "metadata": {
        "colab": {
          "base_uri": "https://localhost:8080/",
          "height": 206
        },
        "id": "10b89ZpLDqx9",
        "outputId": "ed1cc56a-64b6-4fd2-fec8-f2138da98eb0"
      },
      "source": [
        "df = pd.DataFrame(data)\n",
        "#把这个列表“扁平化”成一个二维表格（DataFrame），字典的每个键都变成一列，值则按行对齐\n",
        "#data 是一个包含多个字典的列表，每个里都有 \"name\"、\"path\"、\"emotion\"（以及你后续可能添加的 \"feature_path\"）等键值对。\n",
        "df.head()"
      ],
      "execution_count": 7,
      "outputs": [
        {
          "output_type": "execute_result",
          "data": {
            "text/plain": [
              "      name                                       path    emotion\n",
              "0  h20 (6)  /content/data/aesdd/happiness/h20 (6).wav  happiness\n",
              "1  h10 (2)  /content/data/aesdd/happiness/h10 (2).wav  happiness\n",
              "2  h11 (6)  /content/data/aesdd/happiness/h11 (6).wav  happiness\n",
              "3  h11 (4)  /content/data/aesdd/happiness/h11 (4).wav  happiness\n",
              "4  h19 (2)  /content/data/aesdd/happiness/h19 (2).wav  happiness"
            ],
            "text/html": [
              "\n",
              "  <div id=\"df-6963f166-9af5-4a51-9fe6-fd72d84b53f9\" class=\"colab-df-container\">\n",
              "    <div>\n",
              "<style scoped>\n",
              "    .dataframe tbody tr th:only-of-type {\n",
              "        vertical-align: middle;\n",
              "    }\n",
              "\n",
              "    .dataframe tbody tr th {\n",
              "        vertical-align: top;\n",
              "    }\n",
              "\n",
              "    .dataframe thead th {\n",
              "        text-align: right;\n",
              "    }\n",
              "</style>\n",
              "<table border=\"1\" class=\"dataframe\">\n",
              "  <thead>\n",
              "    <tr style=\"text-align: right;\">\n",
              "      <th></th>\n",
              "      <th>name</th>\n",
              "      <th>path</th>\n",
              "      <th>emotion</th>\n",
              "    </tr>\n",
              "  </thead>\n",
              "  <tbody>\n",
              "    <tr>\n",
              "      <th>0</th>\n",
              "      <td>h20 (6)</td>\n",
              "      <td>/content/data/aesdd/happiness/h20 (6).wav</td>\n",
              "      <td>happiness</td>\n",
              "    </tr>\n",
              "    <tr>\n",
              "      <th>1</th>\n",
              "      <td>h10 (2)</td>\n",
              "      <td>/content/data/aesdd/happiness/h10 (2).wav</td>\n",
              "      <td>happiness</td>\n",
              "    </tr>\n",
              "    <tr>\n",
              "      <th>2</th>\n",
              "      <td>h11 (6)</td>\n",
              "      <td>/content/data/aesdd/happiness/h11 (6).wav</td>\n",
              "      <td>happiness</td>\n",
              "    </tr>\n",
              "    <tr>\n",
              "      <th>3</th>\n",
              "      <td>h11 (4)</td>\n",
              "      <td>/content/data/aesdd/happiness/h11 (4).wav</td>\n",
              "      <td>happiness</td>\n",
              "    </tr>\n",
              "    <tr>\n",
              "      <th>4</th>\n",
              "      <td>h19 (2)</td>\n",
              "      <td>/content/data/aesdd/happiness/h19 (2).wav</td>\n",
              "      <td>happiness</td>\n",
              "    </tr>\n",
              "  </tbody>\n",
              "</table>\n",
              "</div>\n",
              "    <div class=\"colab-df-buttons\">\n",
              "\n",
              "  <div class=\"colab-df-container\">\n",
              "    <button class=\"colab-df-convert\" onclick=\"convertToInteractive('df-6963f166-9af5-4a51-9fe6-fd72d84b53f9')\"\n",
              "            title=\"Convert this dataframe to an interactive table.\"\n",
              "            style=\"display:none;\">\n",
              "\n",
              "  <svg xmlns=\"http://www.w3.org/2000/svg\" height=\"24px\" viewBox=\"0 -960 960 960\">\n",
              "    <path d=\"M120-120v-720h720v720H120Zm60-500h600v-160H180v160Zm220 220h160v-160H400v160Zm0 220h160v-160H400v160ZM180-400h160v-160H180v160Zm440 0h160v-160H620v160ZM180-180h160v-160H180v160Zm440 0h160v-160H620v160Z\"/>\n",
              "  </svg>\n",
              "    </button>\n",
              "\n",
              "  <style>\n",
              "    .colab-df-container {\n",
              "      display:flex;\n",
              "      gap: 12px;\n",
              "    }\n",
              "\n",
              "    .colab-df-convert {\n",
              "      background-color: #E8F0FE;\n",
              "      border: none;\n",
              "      border-radius: 50%;\n",
              "      cursor: pointer;\n",
              "      display: none;\n",
              "      fill: #1967D2;\n",
              "      height: 32px;\n",
              "      padding: 0 0 0 0;\n",
              "      width: 32px;\n",
              "    }\n",
              "\n",
              "    .colab-df-convert:hover {\n",
              "      background-color: #E2EBFA;\n",
              "      box-shadow: 0px 1px 2px rgba(60, 64, 67, 0.3), 0px 1px 3px 1px rgba(60, 64, 67, 0.15);\n",
              "      fill: #174EA6;\n",
              "    }\n",
              "\n",
              "    .colab-df-buttons div {\n",
              "      margin-bottom: 4px;\n",
              "    }\n",
              "\n",
              "    [theme=dark] .colab-df-convert {\n",
              "      background-color: #3B4455;\n",
              "      fill: #D2E3FC;\n",
              "    }\n",
              "\n",
              "    [theme=dark] .colab-df-convert:hover {\n",
              "      background-color: #434B5C;\n",
              "      box-shadow: 0px 1px 3px 1px rgba(0, 0, 0, 0.15);\n",
              "      filter: drop-shadow(0px 1px 2px rgba(0, 0, 0, 0.3));\n",
              "      fill: #FFFFFF;\n",
              "    }\n",
              "  </style>\n",
              "\n",
              "    <script>\n",
              "      const buttonEl =\n",
              "        document.querySelector('#df-6963f166-9af5-4a51-9fe6-fd72d84b53f9 button.colab-df-convert');\n",
              "      buttonEl.style.display =\n",
              "        google.colab.kernel.accessAllowed ? 'block' : 'none';\n",
              "\n",
              "      async function convertToInteractive(key) {\n",
              "        const element = document.querySelector('#df-6963f166-9af5-4a51-9fe6-fd72d84b53f9');\n",
              "        const dataTable =\n",
              "          await google.colab.kernel.invokeFunction('convertToInteractive',\n",
              "                                                    [key], {});\n",
              "        if (!dataTable) return;\n",
              "\n",
              "        const docLinkHtml = 'Like what you see? Visit the ' +\n",
              "          '<a target=\"_blank\" href=https://colab.research.google.com/notebooks/data_table.ipynb>data table notebook</a>'\n",
              "          + ' to learn more about interactive tables.';\n",
              "        element.innerHTML = '';\n",
              "        dataTable['output_type'] = 'display_data';\n",
              "        await google.colab.output.renderOutput(dataTable, element);\n",
              "        const docLink = document.createElement('div');\n",
              "        docLink.innerHTML = docLinkHtml;\n",
              "        element.appendChild(docLink);\n",
              "      }\n",
              "    </script>\n",
              "  </div>\n",
              "\n",
              "\n",
              "    <div id=\"df-755a4c4d-feb5-4ae4-81b5-aff2eb253f75\">\n",
              "      <button class=\"colab-df-quickchart\" onclick=\"quickchart('df-755a4c4d-feb5-4ae4-81b5-aff2eb253f75')\"\n",
              "                title=\"Suggest charts\"\n",
              "                style=\"display:none;\">\n",
              "\n",
              "<svg xmlns=\"http://www.w3.org/2000/svg\" height=\"24px\"viewBox=\"0 0 24 24\"\n",
              "     width=\"24px\">\n",
              "    <g>\n",
              "        <path d=\"M19 3H5c-1.1 0-2 .9-2 2v14c0 1.1.9 2 2 2h14c1.1 0 2-.9 2-2V5c0-1.1-.9-2-2-2zM9 17H7v-7h2v7zm4 0h-2V7h2v10zm4 0h-2v-4h2v4z\"/>\n",
              "    </g>\n",
              "</svg>\n",
              "      </button>\n",
              "\n",
              "<style>\n",
              "  .colab-df-quickchart {\n",
              "      --bg-color: #E8F0FE;\n",
              "      --fill-color: #1967D2;\n",
              "      --hover-bg-color: #E2EBFA;\n",
              "      --hover-fill-color: #174EA6;\n",
              "      --disabled-fill-color: #AAA;\n",
              "      --disabled-bg-color: #DDD;\n",
              "  }\n",
              "\n",
              "  [theme=dark] .colab-df-quickchart {\n",
              "      --bg-color: #3B4455;\n",
              "      --fill-color: #D2E3FC;\n",
              "      --hover-bg-color: #434B5C;\n",
              "      --hover-fill-color: #FFFFFF;\n",
              "      --disabled-bg-color: #3B4455;\n",
              "      --disabled-fill-color: #666;\n",
              "  }\n",
              "\n",
              "  .colab-df-quickchart {\n",
              "    background-color: var(--bg-color);\n",
              "    border: none;\n",
              "    border-radius: 50%;\n",
              "    cursor: pointer;\n",
              "    display: none;\n",
              "    fill: var(--fill-color);\n",
              "    height: 32px;\n",
              "    padding: 0;\n",
              "    width: 32px;\n",
              "  }\n",
              "\n",
              "  .colab-df-quickchart:hover {\n",
              "    background-color: var(--hover-bg-color);\n",
              "    box-shadow: 0 1px 2px rgba(60, 64, 67, 0.3), 0 1px 3px 1px rgba(60, 64, 67, 0.15);\n",
              "    fill: var(--button-hover-fill-color);\n",
              "  }\n",
              "\n",
              "  .colab-df-quickchart-complete:disabled,\n",
              "  .colab-df-quickchart-complete:disabled:hover {\n",
              "    background-color: var(--disabled-bg-color);\n",
              "    fill: var(--disabled-fill-color);\n",
              "    box-shadow: none;\n",
              "  }\n",
              "\n",
              "  .colab-df-spinner {\n",
              "    border: 2px solid var(--fill-color);\n",
              "    border-color: transparent;\n",
              "    border-bottom-color: var(--fill-color);\n",
              "    animation:\n",
              "      spin 1s steps(1) infinite;\n",
              "  }\n",
              "\n",
              "  @keyframes spin {\n",
              "    0% {\n",
              "      border-color: transparent;\n",
              "      border-bottom-color: var(--fill-color);\n",
              "      border-left-color: var(--fill-color);\n",
              "    }\n",
              "    20% {\n",
              "      border-color: transparent;\n",
              "      border-left-color: var(--fill-color);\n",
              "      border-top-color: var(--fill-color);\n",
              "    }\n",
              "    30% {\n",
              "      border-color: transparent;\n",
              "      border-left-color: var(--fill-color);\n",
              "      border-top-color: var(--fill-color);\n",
              "      border-right-color: var(--fill-color);\n",
              "    }\n",
              "    40% {\n",
              "      border-color: transparent;\n",
              "      border-right-color: var(--fill-color);\n",
              "      border-top-color: var(--fill-color);\n",
              "    }\n",
              "    60% {\n",
              "      border-color: transparent;\n",
              "      border-right-color: var(--fill-color);\n",
              "    }\n",
              "    80% {\n",
              "      border-color: transparent;\n",
              "      border-right-color: var(--fill-color);\n",
              "      border-bottom-color: var(--fill-color);\n",
              "    }\n",
              "    90% {\n",
              "      border-color: transparent;\n",
              "      border-bottom-color: var(--fill-color);\n",
              "    }\n",
              "  }\n",
              "</style>\n",
              "\n",
              "      <script>\n",
              "        async function quickchart(key) {\n",
              "          const quickchartButtonEl =\n",
              "            document.querySelector('#' + key + ' button');\n",
              "          quickchartButtonEl.disabled = true;  // To prevent multiple clicks.\n",
              "          quickchartButtonEl.classList.add('colab-df-spinner');\n",
              "          try {\n",
              "            const charts = await google.colab.kernel.invokeFunction(\n",
              "                'suggestCharts', [key], {});\n",
              "          } catch (error) {\n",
              "            console.error('Error during call to suggestCharts:', error);\n",
              "          }\n",
              "          quickchartButtonEl.classList.remove('colab-df-spinner');\n",
              "          quickchartButtonEl.classList.add('colab-df-quickchart-complete');\n",
              "        }\n",
              "        (() => {\n",
              "          let quickchartButtonEl =\n",
              "            document.querySelector('#df-755a4c4d-feb5-4ae4-81b5-aff2eb253f75 button');\n",
              "          quickchartButtonEl.style.display =\n",
              "            google.colab.kernel.accessAllowed ? 'block' : 'none';\n",
              "        })();\n",
              "      </script>\n",
              "    </div>\n",
              "\n",
              "    </div>\n",
              "  </div>\n"
            ],
            "application/vnd.google.colaboratory.intrinsic+json": {
              "type": "dataframe",
              "variable_name": "df",
              "summary": "{\n  \"name\": \"df\",\n  \"rows\": 604,\n  \"fields\": [\n    {\n      \"column\": \"name\",\n      \"properties\": {\n        \"dtype\": \"string\",\n        \"num_unique_values\": 604,\n        \"samples\": [\n          \"h03 (3)\",\n          \"d20 (5)\",\n          \"s01 (5)a\"\n        ],\n        \"semantic_type\": \"\",\n        \"description\": \"\"\n      }\n    },\n    {\n      \"column\": \"path\",\n      \"properties\": {\n        \"dtype\": \"string\",\n        \"num_unique_values\": 604,\n        \"samples\": [\n          \"/content/data/aesdd/happiness/h03 (3).wav\",\n          \"/content/data/aesdd/disgust/d20 (5).wav\",\n          \"/content/data/aesdd/sadness/s01 (5)a.wav\"\n        ],\n        \"semantic_type\": \"\",\n        \"description\": \"\"\n      }\n    },\n    {\n      \"column\": \"emotion\",\n      \"properties\": {\n        \"dtype\": \"category\",\n        \"num_unique_values\": 5,\n        \"samples\": [\n          \"anger\",\n          \"sadness\",\n          \"fear\"\n        ],\n        \"semantic_type\": \"\",\n        \"description\": \"\"\n      }\n    }\n  ]\n}"
            }
          },
          "metadata": {},
          "execution_count": 7
        }
      ]
    },
    {
      "cell_type": "code",
      "metadata": {
        "id": "iMhTHur8voOp",
        "colab": {
          "base_uri": "https://localhost:8080/",
          "height": 242
        },
        "outputId": "47504e18-4199-4a7d-fbe7-94e01369b02b"
      },
      "source": [
        "# Filter broken and non-existed paths\n",
        "\n",
        "print(f\"Step 0: {len(df)}\")\n",
        "\n",
        "df[\"status\"] = df[\"path\"].apply(lambda path: True if os.path.exists(path) else None)\n",
        "df = df.dropna(subset=[\"path\"])\n",
        "df = df.drop(\"status\", axis=1)\n",
        "print(f\"Step 1: {len(df)}\")\n",
        "\n",
        "df = df.sample(frac=1)\n",
        "df = df.reset_index(drop=True)\n",
        "df.head()"
      ],
      "execution_count": 10,
      "outputs": [
        {
          "output_type": "stream",
          "name": "stdout",
          "text": [
            "Step 0: 604\n",
            "Step 1: 604\n"
          ]
        },
        {
          "output_type": "execute_result",
          "data": {
            "text/plain": [
              "      name                                     path  emotion\n",
              "0  s04 (6)  /content/data/aesdd/sadness/s04 (6).wav  sadness\n",
              "1  s20 (3)  /content/data/aesdd/sadness/s20 (3).wav  sadness\n",
              "2  d10 (5)  /content/data/aesdd/disgust/d10 (5).wav  disgust\n",
              "3  d06 (4)  /content/data/aesdd/disgust/d06 (4).wav  disgust\n",
              "4  f01 (6)     /content/data/aesdd/fear/f01 (6).wav     fear"
            ],
            "text/html": [
              "\n",
              "  <div id=\"df-fbf42c85-12a3-4f6e-a114-3297b806bc49\" class=\"colab-df-container\">\n",
              "    <div>\n",
              "<style scoped>\n",
              "    .dataframe tbody tr th:only-of-type {\n",
              "        vertical-align: middle;\n",
              "    }\n",
              "\n",
              "    .dataframe tbody tr th {\n",
              "        vertical-align: top;\n",
              "    }\n",
              "\n",
              "    .dataframe thead th {\n",
              "        text-align: right;\n",
              "    }\n",
              "</style>\n",
              "<table border=\"1\" class=\"dataframe\">\n",
              "  <thead>\n",
              "    <tr style=\"text-align: right;\">\n",
              "      <th></th>\n",
              "      <th>name</th>\n",
              "      <th>path</th>\n",
              "      <th>emotion</th>\n",
              "    </tr>\n",
              "  </thead>\n",
              "  <tbody>\n",
              "    <tr>\n",
              "      <th>0</th>\n",
              "      <td>s04 (6)</td>\n",
              "      <td>/content/data/aesdd/sadness/s04 (6).wav</td>\n",
              "      <td>sadness</td>\n",
              "    </tr>\n",
              "    <tr>\n",
              "      <th>1</th>\n",
              "      <td>s20 (3)</td>\n",
              "      <td>/content/data/aesdd/sadness/s20 (3).wav</td>\n",
              "      <td>sadness</td>\n",
              "    </tr>\n",
              "    <tr>\n",
              "      <th>2</th>\n",
              "      <td>d10 (5)</td>\n",
              "      <td>/content/data/aesdd/disgust/d10 (5).wav</td>\n",
              "      <td>disgust</td>\n",
              "    </tr>\n",
              "    <tr>\n",
              "      <th>3</th>\n",
              "      <td>d06 (4)</td>\n",
              "      <td>/content/data/aesdd/disgust/d06 (4).wav</td>\n",
              "      <td>disgust</td>\n",
              "    </tr>\n",
              "    <tr>\n",
              "      <th>4</th>\n",
              "      <td>f01 (6)</td>\n",
              "      <td>/content/data/aesdd/fear/f01 (6).wav</td>\n",
              "      <td>fear</td>\n",
              "    </tr>\n",
              "  </tbody>\n",
              "</table>\n",
              "</div>\n",
              "    <div class=\"colab-df-buttons\">\n",
              "\n",
              "  <div class=\"colab-df-container\">\n",
              "    <button class=\"colab-df-convert\" onclick=\"convertToInteractive('df-fbf42c85-12a3-4f6e-a114-3297b806bc49')\"\n",
              "            title=\"Convert this dataframe to an interactive table.\"\n",
              "            style=\"display:none;\">\n",
              "\n",
              "  <svg xmlns=\"http://www.w3.org/2000/svg\" height=\"24px\" viewBox=\"0 -960 960 960\">\n",
              "    <path d=\"M120-120v-720h720v720H120Zm60-500h600v-160H180v160Zm220 220h160v-160H400v160Zm0 220h160v-160H400v160ZM180-400h160v-160H180v160Zm440 0h160v-160H620v160ZM180-180h160v-160H180v160Zm440 0h160v-160H620v160Z\"/>\n",
              "  </svg>\n",
              "    </button>\n",
              "\n",
              "  <style>\n",
              "    .colab-df-container {\n",
              "      display:flex;\n",
              "      gap: 12px;\n",
              "    }\n",
              "\n",
              "    .colab-df-convert {\n",
              "      background-color: #E8F0FE;\n",
              "      border: none;\n",
              "      border-radius: 50%;\n",
              "      cursor: pointer;\n",
              "      display: none;\n",
              "      fill: #1967D2;\n",
              "      height: 32px;\n",
              "      padding: 0 0 0 0;\n",
              "      width: 32px;\n",
              "    }\n",
              "\n",
              "    .colab-df-convert:hover {\n",
              "      background-color: #E2EBFA;\n",
              "      box-shadow: 0px 1px 2px rgba(60, 64, 67, 0.3), 0px 1px 3px 1px rgba(60, 64, 67, 0.15);\n",
              "      fill: #174EA6;\n",
              "    }\n",
              "\n",
              "    .colab-df-buttons div {\n",
              "      margin-bottom: 4px;\n",
              "    }\n",
              "\n",
              "    [theme=dark] .colab-df-convert {\n",
              "      background-color: #3B4455;\n",
              "      fill: #D2E3FC;\n",
              "    }\n",
              "\n",
              "    [theme=dark] .colab-df-convert:hover {\n",
              "      background-color: #434B5C;\n",
              "      box-shadow: 0px 1px 3px 1px rgba(0, 0, 0, 0.15);\n",
              "      filter: drop-shadow(0px 1px 2px rgba(0, 0, 0, 0.3));\n",
              "      fill: #FFFFFF;\n",
              "    }\n",
              "  </style>\n",
              "\n",
              "    <script>\n",
              "      const buttonEl =\n",
              "        document.querySelector('#df-fbf42c85-12a3-4f6e-a114-3297b806bc49 button.colab-df-convert');\n",
              "      buttonEl.style.display =\n",
              "        google.colab.kernel.accessAllowed ? 'block' : 'none';\n",
              "\n",
              "      async function convertToInteractive(key) {\n",
              "        const element = document.querySelector('#df-fbf42c85-12a3-4f6e-a114-3297b806bc49');\n",
              "        const dataTable =\n",
              "          await google.colab.kernel.invokeFunction('convertToInteractive',\n",
              "                                                    [key], {});\n",
              "        if (!dataTable) return;\n",
              "\n",
              "        const docLinkHtml = 'Like what you see? Visit the ' +\n",
              "          '<a target=\"_blank\" href=https://colab.research.google.com/notebooks/data_table.ipynb>data table notebook</a>'\n",
              "          + ' to learn more about interactive tables.';\n",
              "        element.innerHTML = '';\n",
              "        dataTable['output_type'] = 'display_data';\n",
              "        await google.colab.output.renderOutput(dataTable, element);\n",
              "        const docLink = document.createElement('div');\n",
              "        docLink.innerHTML = docLinkHtml;\n",
              "        element.appendChild(docLink);\n",
              "      }\n",
              "    </script>\n",
              "  </div>\n",
              "\n",
              "\n",
              "    <div id=\"df-94d5537c-ee13-4aff-abe6-5062471cf166\">\n",
              "      <button class=\"colab-df-quickchart\" onclick=\"quickchart('df-94d5537c-ee13-4aff-abe6-5062471cf166')\"\n",
              "                title=\"Suggest charts\"\n",
              "                style=\"display:none;\">\n",
              "\n",
              "<svg xmlns=\"http://www.w3.org/2000/svg\" height=\"24px\"viewBox=\"0 0 24 24\"\n",
              "     width=\"24px\">\n",
              "    <g>\n",
              "        <path d=\"M19 3H5c-1.1 0-2 .9-2 2v14c0 1.1.9 2 2 2h14c1.1 0 2-.9 2-2V5c0-1.1-.9-2-2-2zM9 17H7v-7h2v7zm4 0h-2V7h2v10zm4 0h-2v-4h2v4z\"/>\n",
              "    </g>\n",
              "</svg>\n",
              "      </button>\n",
              "\n",
              "<style>\n",
              "  .colab-df-quickchart {\n",
              "      --bg-color: #E8F0FE;\n",
              "      --fill-color: #1967D2;\n",
              "      --hover-bg-color: #E2EBFA;\n",
              "      --hover-fill-color: #174EA6;\n",
              "      --disabled-fill-color: #AAA;\n",
              "      --disabled-bg-color: #DDD;\n",
              "  }\n",
              "\n",
              "  [theme=dark] .colab-df-quickchart {\n",
              "      --bg-color: #3B4455;\n",
              "      --fill-color: #D2E3FC;\n",
              "      --hover-bg-color: #434B5C;\n",
              "      --hover-fill-color: #FFFFFF;\n",
              "      --disabled-bg-color: #3B4455;\n",
              "      --disabled-fill-color: #666;\n",
              "  }\n",
              "\n",
              "  .colab-df-quickchart {\n",
              "    background-color: var(--bg-color);\n",
              "    border: none;\n",
              "    border-radius: 50%;\n",
              "    cursor: pointer;\n",
              "    display: none;\n",
              "    fill: var(--fill-color);\n",
              "    height: 32px;\n",
              "    padding: 0;\n",
              "    width: 32px;\n",
              "  }\n",
              "\n",
              "  .colab-df-quickchart:hover {\n",
              "    background-color: var(--hover-bg-color);\n",
              "    box-shadow: 0 1px 2px rgba(60, 64, 67, 0.3), 0 1px 3px 1px rgba(60, 64, 67, 0.15);\n",
              "    fill: var(--button-hover-fill-color);\n",
              "  }\n",
              "\n",
              "  .colab-df-quickchart-complete:disabled,\n",
              "  .colab-df-quickchart-complete:disabled:hover {\n",
              "    background-color: var(--disabled-bg-color);\n",
              "    fill: var(--disabled-fill-color);\n",
              "    box-shadow: none;\n",
              "  }\n",
              "\n",
              "  .colab-df-spinner {\n",
              "    border: 2px solid var(--fill-color);\n",
              "    border-color: transparent;\n",
              "    border-bottom-color: var(--fill-color);\n",
              "    animation:\n",
              "      spin 1s steps(1) infinite;\n",
              "  }\n",
              "\n",
              "  @keyframes spin {\n",
              "    0% {\n",
              "      border-color: transparent;\n",
              "      border-bottom-color: var(--fill-color);\n",
              "      border-left-color: var(--fill-color);\n",
              "    }\n",
              "    20% {\n",
              "      border-color: transparent;\n",
              "      border-left-color: var(--fill-color);\n",
              "      border-top-color: var(--fill-color);\n",
              "    }\n",
              "    30% {\n",
              "      border-color: transparent;\n",
              "      border-left-color: var(--fill-color);\n",
              "      border-top-color: var(--fill-color);\n",
              "      border-right-color: var(--fill-color);\n",
              "    }\n",
              "    40% {\n",
              "      border-color: transparent;\n",
              "      border-right-color: var(--fill-color);\n",
              "      border-top-color: var(--fill-color);\n",
              "    }\n",
              "    60% {\n",
              "      border-color: transparent;\n",
              "      border-right-color: var(--fill-color);\n",
              "    }\n",
              "    80% {\n",
              "      border-color: transparent;\n",
              "      border-right-color: var(--fill-color);\n",
              "      border-bottom-color: var(--fill-color);\n",
              "    }\n",
              "    90% {\n",
              "      border-color: transparent;\n",
              "      border-bottom-color: var(--fill-color);\n",
              "    }\n",
              "  }\n",
              "</style>\n",
              "\n",
              "      <script>\n",
              "        async function quickchart(key) {\n",
              "          const quickchartButtonEl =\n",
              "            document.querySelector('#' + key + ' button');\n",
              "          quickchartButtonEl.disabled = true;  // To prevent multiple clicks.\n",
              "          quickchartButtonEl.classList.add('colab-df-spinner');\n",
              "          try {\n",
              "            const charts = await google.colab.kernel.invokeFunction(\n",
              "                'suggestCharts', [key], {});\n",
              "          } catch (error) {\n",
              "            console.error('Error during call to suggestCharts:', error);\n",
              "          }\n",
              "          quickchartButtonEl.classList.remove('colab-df-spinner');\n",
              "          quickchartButtonEl.classList.add('colab-df-quickchart-complete');\n",
              "        }\n",
              "        (() => {\n",
              "          let quickchartButtonEl =\n",
              "            document.querySelector('#df-94d5537c-ee13-4aff-abe6-5062471cf166 button');\n",
              "          quickchartButtonEl.style.display =\n",
              "            google.colab.kernel.accessAllowed ? 'block' : 'none';\n",
              "        })();\n",
              "      </script>\n",
              "    </div>\n",
              "\n",
              "    </div>\n",
              "  </div>\n"
            ],
            "application/vnd.google.colaboratory.intrinsic+json": {
              "type": "dataframe",
              "variable_name": "df",
              "summary": "{\n  \"name\": \"df\",\n  \"rows\": 604,\n  \"fields\": [\n    {\n      \"column\": \"name\",\n      \"properties\": {\n        \"dtype\": \"string\",\n        \"num_unique_values\": 604,\n        \"samples\": [\n          \"d05 (3)\",\n          \"s19 (4)\",\n          \"d10 (2)\"\n        ],\n        \"semantic_type\": \"\",\n        \"description\": \"\"\n      }\n    },\n    {\n      \"column\": \"path\",\n      \"properties\": {\n        \"dtype\": \"string\",\n        \"num_unique_values\": 604,\n        \"samples\": [\n          \"/content/data/aesdd/disgust/d05 (3).wav\",\n          \"/content/data/aesdd/sadness/s19 (4).wav\",\n          \"/content/data/aesdd/disgust/d10 (2).wav\"\n        ],\n        \"semantic_type\": \"\",\n        \"description\": \"\"\n      }\n    },\n    {\n      \"column\": \"emotion\",\n      \"properties\": {\n        \"dtype\": \"category\",\n        \"num_unique_values\": 5,\n        \"samples\": [\n          \"disgust\",\n          \"anger\",\n          \"fear\"\n        ],\n        \"semantic_type\": \"\",\n        \"description\": \"\"\n      }\n    }\n  ]\n}"
            }
          },
          "metadata": {},
          "execution_count": 10
        }
      ]
    },
    {
      "cell_type": "markdown",
      "metadata": {
        "id": "TWku4ra3Bp52"
      },
      "source": [
        "Let's explore how many labels (emotions) are in the dataset with what distribution."
      ]
    },
    {
      "cell_type": "code",
      "metadata": {
        "id": "beNpKMh5xXmX",
        "colab": {
          "base_uri": "https://localhost:8080/",
          "height": 273
        },
        "outputId": "bddfbaa3-7e2b-4eeb-dc6d-bf54a4cc302e"
      },
      "source": [
        "print(\"Labels: \", df[\"emotion\"].unique())\n",
        "print()\n",
        "df.groupby(\"emotion\").count()[[\"path\"]]"
      ],
      "execution_count": 12,
      "outputs": [
        {
          "output_type": "stream",
          "name": "stdout",
          "text": [
            "Labels:  ['sadness' 'disgust' 'fear' 'happiness' 'anger']\n",
            "\n"
          ]
        },
        {
          "output_type": "execute_result",
          "data": {
            "text/plain": [
              "           path\n",
              "emotion        \n",
              "anger       121\n",
              "disgust     122\n",
              "fear        120\n",
              "happiness   119\n",
              "sadness     122"
            ],
            "text/html": [
              "\n",
              "  <div id=\"df-416a9c53-79c1-4c94-be6c-e027dd71e4d9\" class=\"colab-df-container\">\n",
              "    <div>\n",
              "<style scoped>\n",
              "    .dataframe tbody tr th:only-of-type {\n",
              "        vertical-align: middle;\n",
              "    }\n",
              "\n",
              "    .dataframe tbody tr th {\n",
              "        vertical-align: top;\n",
              "    }\n",
              "\n",
              "    .dataframe thead th {\n",
              "        text-align: right;\n",
              "    }\n",
              "</style>\n",
              "<table border=\"1\" class=\"dataframe\">\n",
              "  <thead>\n",
              "    <tr style=\"text-align: right;\">\n",
              "      <th></th>\n",
              "      <th>path</th>\n",
              "    </tr>\n",
              "    <tr>\n",
              "      <th>emotion</th>\n",
              "      <th></th>\n",
              "    </tr>\n",
              "  </thead>\n",
              "  <tbody>\n",
              "    <tr>\n",
              "      <th>anger</th>\n",
              "      <td>121</td>\n",
              "    </tr>\n",
              "    <tr>\n",
              "      <th>disgust</th>\n",
              "      <td>122</td>\n",
              "    </tr>\n",
              "    <tr>\n",
              "      <th>fear</th>\n",
              "      <td>120</td>\n",
              "    </tr>\n",
              "    <tr>\n",
              "      <th>happiness</th>\n",
              "      <td>119</td>\n",
              "    </tr>\n",
              "    <tr>\n",
              "      <th>sadness</th>\n",
              "      <td>122</td>\n",
              "    </tr>\n",
              "  </tbody>\n",
              "</table>\n",
              "</div>\n",
              "    <div class=\"colab-df-buttons\">\n",
              "\n",
              "  <div class=\"colab-df-container\">\n",
              "    <button class=\"colab-df-convert\" onclick=\"convertToInteractive('df-416a9c53-79c1-4c94-be6c-e027dd71e4d9')\"\n",
              "            title=\"Convert this dataframe to an interactive table.\"\n",
              "            style=\"display:none;\">\n",
              "\n",
              "  <svg xmlns=\"http://www.w3.org/2000/svg\" height=\"24px\" viewBox=\"0 -960 960 960\">\n",
              "    <path d=\"M120-120v-720h720v720H120Zm60-500h600v-160H180v160Zm220 220h160v-160H400v160Zm0 220h160v-160H400v160ZM180-400h160v-160H180v160Zm440 0h160v-160H620v160ZM180-180h160v-160H180v160Zm440 0h160v-160H620v160Z\"/>\n",
              "  </svg>\n",
              "    </button>\n",
              "\n",
              "  <style>\n",
              "    .colab-df-container {\n",
              "      display:flex;\n",
              "      gap: 12px;\n",
              "    }\n",
              "\n",
              "    .colab-df-convert {\n",
              "      background-color: #E8F0FE;\n",
              "      border: none;\n",
              "      border-radius: 50%;\n",
              "      cursor: pointer;\n",
              "      display: none;\n",
              "      fill: #1967D2;\n",
              "      height: 32px;\n",
              "      padding: 0 0 0 0;\n",
              "      width: 32px;\n",
              "    }\n",
              "\n",
              "    .colab-df-convert:hover {\n",
              "      background-color: #E2EBFA;\n",
              "      box-shadow: 0px 1px 2px rgba(60, 64, 67, 0.3), 0px 1px 3px 1px rgba(60, 64, 67, 0.15);\n",
              "      fill: #174EA6;\n",
              "    }\n",
              "\n",
              "    .colab-df-buttons div {\n",
              "      margin-bottom: 4px;\n",
              "    }\n",
              "\n",
              "    [theme=dark] .colab-df-convert {\n",
              "      background-color: #3B4455;\n",
              "      fill: #D2E3FC;\n",
              "    }\n",
              "\n",
              "    [theme=dark] .colab-df-convert:hover {\n",
              "      background-color: #434B5C;\n",
              "      box-shadow: 0px 1px 3px 1px rgba(0, 0, 0, 0.15);\n",
              "      filter: drop-shadow(0px 1px 2px rgba(0, 0, 0, 0.3));\n",
              "      fill: #FFFFFF;\n",
              "    }\n",
              "  </style>\n",
              "\n",
              "    <script>\n",
              "      const buttonEl =\n",
              "        document.querySelector('#df-416a9c53-79c1-4c94-be6c-e027dd71e4d9 button.colab-df-convert');\n",
              "      buttonEl.style.display =\n",
              "        google.colab.kernel.accessAllowed ? 'block' : 'none';\n",
              "\n",
              "      async function convertToInteractive(key) {\n",
              "        const element = document.querySelector('#df-416a9c53-79c1-4c94-be6c-e027dd71e4d9');\n",
              "        const dataTable =\n",
              "          await google.colab.kernel.invokeFunction('convertToInteractive',\n",
              "                                                    [key], {});\n",
              "        if (!dataTable) return;\n",
              "\n",
              "        const docLinkHtml = 'Like what you see? Visit the ' +\n",
              "          '<a target=\"_blank\" href=https://colab.research.google.com/notebooks/data_table.ipynb>data table notebook</a>'\n",
              "          + ' to learn more about interactive tables.';\n",
              "        element.innerHTML = '';\n",
              "        dataTable['output_type'] = 'display_data';\n",
              "        await google.colab.output.renderOutput(dataTable, element);\n",
              "        const docLink = document.createElement('div');\n",
              "        docLink.innerHTML = docLinkHtml;\n",
              "        element.appendChild(docLink);\n",
              "      }\n",
              "    </script>\n",
              "  </div>\n",
              "\n",
              "\n",
              "    <div id=\"df-7e967c21-5993-4770-853c-afd8822e3e1d\">\n",
              "      <button class=\"colab-df-quickchart\" onclick=\"quickchart('df-7e967c21-5993-4770-853c-afd8822e3e1d')\"\n",
              "                title=\"Suggest charts\"\n",
              "                style=\"display:none;\">\n",
              "\n",
              "<svg xmlns=\"http://www.w3.org/2000/svg\" height=\"24px\"viewBox=\"0 0 24 24\"\n",
              "     width=\"24px\">\n",
              "    <g>\n",
              "        <path d=\"M19 3H5c-1.1 0-2 .9-2 2v14c0 1.1.9 2 2 2h14c1.1 0 2-.9 2-2V5c0-1.1-.9-2-2-2zM9 17H7v-7h2v7zm4 0h-2V7h2v10zm4 0h-2v-4h2v4z\"/>\n",
              "    </g>\n",
              "</svg>\n",
              "      </button>\n",
              "\n",
              "<style>\n",
              "  .colab-df-quickchart {\n",
              "      --bg-color: #E8F0FE;\n",
              "      --fill-color: #1967D2;\n",
              "      --hover-bg-color: #E2EBFA;\n",
              "      --hover-fill-color: #174EA6;\n",
              "      --disabled-fill-color: #AAA;\n",
              "      --disabled-bg-color: #DDD;\n",
              "  }\n",
              "\n",
              "  [theme=dark] .colab-df-quickchart {\n",
              "      --bg-color: #3B4455;\n",
              "      --fill-color: #D2E3FC;\n",
              "      --hover-bg-color: #434B5C;\n",
              "      --hover-fill-color: #FFFFFF;\n",
              "      --disabled-bg-color: #3B4455;\n",
              "      --disabled-fill-color: #666;\n",
              "  }\n",
              "\n",
              "  .colab-df-quickchart {\n",
              "    background-color: var(--bg-color);\n",
              "    border: none;\n",
              "    border-radius: 50%;\n",
              "    cursor: pointer;\n",
              "    display: none;\n",
              "    fill: var(--fill-color);\n",
              "    height: 32px;\n",
              "    padding: 0;\n",
              "    width: 32px;\n",
              "  }\n",
              "\n",
              "  .colab-df-quickchart:hover {\n",
              "    background-color: var(--hover-bg-color);\n",
              "    box-shadow: 0 1px 2px rgba(60, 64, 67, 0.3), 0 1px 3px 1px rgba(60, 64, 67, 0.15);\n",
              "    fill: var(--button-hover-fill-color);\n",
              "  }\n",
              "\n",
              "  .colab-df-quickchart-complete:disabled,\n",
              "  .colab-df-quickchart-complete:disabled:hover {\n",
              "    background-color: var(--disabled-bg-color);\n",
              "    fill: var(--disabled-fill-color);\n",
              "    box-shadow: none;\n",
              "  }\n",
              "\n",
              "  .colab-df-spinner {\n",
              "    border: 2px solid var(--fill-color);\n",
              "    border-color: transparent;\n",
              "    border-bottom-color: var(--fill-color);\n",
              "    animation:\n",
              "      spin 1s steps(1) infinite;\n",
              "  }\n",
              "\n",
              "  @keyframes spin {\n",
              "    0% {\n",
              "      border-color: transparent;\n",
              "      border-bottom-color: var(--fill-color);\n",
              "      border-left-color: var(--fill-color);\n",
              "    }\n",
              "    20% {\n",
              "      border-color: transparent;\n",
              "      border-left-color: var(--fill-color);\n",
              "      border-top-color: var(--fill-color);\n",
              "    }\n",
              "    30% {\n",
              "      border-color: transparent;\n",
              "      border-left-color: var(--fill-color);\n",
              "      border-top-color: var(--fill-color);\n",
              "      border-right-color: var(--fill-color);\n",
              "    }\n",
              "    40% {\n",
              "      border-color: transparent;\n",
              "      border-right-color: var(--fill-color);\n",
              "      border-top-color: var(--fill-color);\n",
              "    }\n",
              "    60% {\n",
              "      border-color: transparent;\n",
              "      border-right-color: var(--fill-color);\n",
              "    }\n",
              "    80% {\n",
              "      border-color: transparent;\n",
              "      border-right-color: var(--fill-color);\n",
              "      border-bottom-color: var(--fill-color);\n",
              "    }\n",
              "    90% {\n",
              "      border-color: transparent;\n",
              "      border-bottom-color: var(--fill-color);\n",
              "    }\n",
              "  }\n",
              "</style>\n",
              "\n",
              "      <script>\n",
              "        async function quickchart(key) {\n",
              "          const quickchartButtonEl =\n",
              "            document.querySelector('#' + key + ' button');\n",
              "          quickchartButtonEl.disabled = true;  // To prevent multiple clicks.\n",
              "          quickchartButtonEl.classList.add('colab-df-spinner');\n",
              "          try {\n",
              "            const charts = await google.colab.kernel.invokeFunction(\n",
              "                'suggestCharts', [key], {});\n",
              "          } catch (error) {\n",
              "            console.error('Error during call to suggestCharts:', error);\n",
              "          }\n",
              "          quickchartButtonEl.classList.remove('colab-df-spinner');\n",
              "          quickchartButtonEl.classList.add('colab-df-quickchart-complete');\n",
              "        }\n",
              "        (() => {\n",
              "          let quickchartButtonEl =\n",
              "            document.querySelector('#df-7e967c21-5993-4770-853c-afd8822e3e1d button');\n",
              "          quickchartButtonEl.style.display =\n",
              "            google.colab.kernel.accessAllowed ? 'block' : 'none';\n",
              "        })();\n",
              "      </script>\n",
              "    </div>\n",
              "\n",
              "    </div>\n",
              "  </div>\n"
            ],
            "application/vnd.google.colaboratory.intrinsic+json": {
              "type": "dataframe",
              "summary": "{\n  \"name\": \"df\",\n  \"rows\": 5,\n  \"fields\": [\n    {\n      \"column\": \"emotion\",\n      \"properties\": {\n        \"dtype\": \"string\",\n        \"num_unique_values\": 5,\n        \"samples\": [\n          \"disgust\",\n          \"sadness\",\n          \"fear\"\n        ],\n        \"semantic_type\": \"\",\n        \"description\": \"\"\n      }\n    },\n    {\n      \"column\": \"path\",\n      \"properties\": {\n        \"dtype\": \"number\",\n        \"std\": 1,\n        \"min\": 119,\n        \"max\": 122,\n        \"num_unique_values\": 4,\n        \"samples\": [\n          122,\n          119,\n          121\n        ],\n        \"semantic_type\": \"\",\n        \"description\": \"\"\n      }\n    }\n  ]\n}"
            }
          },
          "metadata": {},
          "execution_count": 12
        }
      ]
    },
    {
      "cell_type": "markdown",
      "metadata": {
        "id": "i2hwRai7BNrx"
      },
      "source": [
        "Let's display some random sample of the dataset and run it a couple of times to get a feeling for the audio and the emotional label."
      ]
    },
    {
      "cell_type": "code",
      "metadata": {
        "id": "DZaQ_sP5xkIX",
        "colab": {
          "base_uri": "https://localhost:8080/",
          "height": 128
        },
        "outputId": "7be3f453-f1ed-4f4b-bd90-e0f55e8b642d"
      },
      "source": [
        "import torchaudio\n",
        "import librosa\n",
        "import IPython.display as ipd\n",
        "import numpy as np\n",
        "\n",
        "idx = np.random.randint(0, len(df))\n",
        "#从 0 到 len(df)-1 中随机选一个整数，作为要查看的样本行索引。\n",
        "sample = df.iloc[idx]\n",
        "#取出样本行用 .iloc 按位置索引从 DataFrame df 中取出第 idx 行.\n",
        "path = sample[\"path\"]\n",
        "label = sample[\"emotion\"]\n",
        "\n",
        "\n",
        "print(f\"ID Location: {idx}\")\n",
        "print(f\"      Label: {label}\")\n",
        "print()\n",
        "\n",
        "speech, sr = torchaudio.load(path)\n",
        "#加载音频speech：Tensor，形状通常为 [channels, num_samples]。sr（sample rate）：音频的采样率（Hz）。\n",
        "\n",
        "speech = speech[0].numpy().squeeze()\n",
        "#转换成一维 NumPy speech[0]：取第 1 个声道（若是单声道，则直接取它）。\n",
        "#numpy()：把 PyTorch Tensor 转成 NumPy 数组。\n",
        "#squeeze()：压掉所有维度为 1 的轴，结果是一维向量 [num_samples]。\n",
        "\n",
        "speech = librosa.resample(y = np.asarray(speech), orig_sr = sr, target_sr = 16_000)\n",
        "#重采样到 16 kHz\n",
        "#np.asarray(speech)：确保输入是 NumPy 数组。\n",
        "#librosa.resample(...)：把原始采样率 sr 的音频重采样到模型需要的 16_000 Hz。\n",
        "\n",
        "ipd.Audio(data=np.asarray(speech), autoplay=True, rate=16000)\n",
        "#在 Notebook 播放音频"
      ],
      "execution_count": 15,
      "outputs": [
        {
          "output_type": "stream",
          "name": "stdout",
          "text": [
            "ID Location: 288\n",
            "      Label: fear\n",
            "\n"
          ]
        },
        {
          "output_type": "execute_result",
          "data": {
            "text/plain": [
              "<IPython.lib.display.Audio object>"
            ],
            "text/html": [
              "\n",
              "                <audio  controls=\"controls\" autoplay=\"autoplay\">\n",
              "                    <source src=\"data:audio/wav;base64,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\" type=\"audio/wav\" />\n",
              "                    Your browser does not support the audio element.\n",
              "                </audio>\n",
              "              "
            ]
          },
          "metadata": {},
          "execution_count": 15
        }
      ]
    },
    {
      "cell_type": "markdown",
      "metadata": {
        "id": "7WNjWoWRCmPk"
      },
      "source": [
        "For training purposes, we need to split data into train test sets; in this specific example, we break with a `20%` rate for the test set."
      ]
    },
    {
      "cell_type": "code",
      "metadata": {
        "id": "mlim-044xtJN",
        "colab": {
          "base_uri": "https://localhost:8080/"
        },
        "outputId": "5c2f8744-2e1a-47cb-df74-668fedd85575"
      },
      "source": [
        "save_path = \"/content/data\"\n",
        "\n",
        "train_df, test_df = train_test_split(df, test_size=0.2, random_state=101, stratify=df[\"emotion\"])\n",
        "\n",
        "train_df = train_df.reset_index(drop=True)\n",
        "test_df = test_df.reset_index(drop=True)\n",
        "\n",
        "train_df.to_csv(f\"{save_path}/train.csv\", sep=\"\\t\", encoding=\"utf-8\", index=False)\n",
        "test_df.to_csv(f\"{save_path}/test.csv\", sep=\"\\t\", encoding=\"utf-8\", index=False)\n",
        "\n",
        "\n",
        "print(train_df.shape)\n",
        "print(test_df.shape)"
      ],
      "execution_count": 17,
      "outputs": [
        {
          "output_type": "stream",
          "name": "stdout",
          "text": [
            "(483, 3)\n",
            "(121, 3)\n"
          ]
        }
      ]
    },
    {
      "cell_type": "markdown",
      "metadata": {
        "id": "kcnD-d_rDElt"
      },
      "source": [
        "## Prepare Data for Training"
      ]
    },
    {
      "cell_type": "code",
      "metadata": {
        "colab": {
          "base_uri": "https://localhost:8080/",
          "height": 411
        },
        "id": "nnVfxQYDDIc6",
        "outputId": "31fd006b-133e-4f2f-fac1-723ceeae226f"
      },
      "source": [
        "# Loading the created dataset using datasets\n",
        "from datasets import load_dataset, load_metric\n",
        "\n",
        "\n",
        "data_files = {\n",
        "    \"train\": \"/content/data/train.csv\",\n",
        "    \"validation\": \"/content/data/test.csv\",\n",
        "}\n",
        "\n",
        "dataset = load_dataset(\"csv\", data_files=data_files, delimiter=\"\\t\", )\n",
        "train_dataset = dataset[\"train\"]\n",
        "eval_dataset = dataset[\"validation\"]\n",
        "\n",
        "print(train_dataset)\n",
        "print(eval_dataset)"
      ],
      "execution_count": 18,
      "outputs": [
        {
          "output_type": "error",
          "ename": "ImportError",
          "evalue": "cannot import name 'load_metric' from 'datasets' (/usr/local/lib/python3.11/dist-packages/datasets/__init__.py)",
          "traceback": [
            "\u001b[0;31m---------------------------------------------------------------------------\u001b[0m",
            "\u001b[0;31mImportError\u001b[0m                               Traceback (most recent call last)",
            "\u001b[0;32m<ipython-input-18-78e8e8802597>\u001b[0m in \u001b[0;36m<cell line: 0>\u001b[0;34m()\u001b[0m\n\u001b[1;32m      1\u001b[0m \u001b[0;31m# Loading the created dataset using datasets\u001b[0m\u001b[0;34m\u001b[0m\u001b[0;34m\u001b[0m\u001b[0m\n\u001b[0;32m----> 2\u001b[0;31m \u001b[0;32mfrom\u001b[0m \u001b[0mdatasets\u001b[0m \u001b[0;32mimport\u001b[0m \u001b[0mload_dataset\u001b[0m\u001b[0;34m,\u001b[0m \u001b[0mload_metric\u001b[0m\u001b[0;34m\u001b[0m\u001b[0;34m\u001b[0m\u001b[0m\n\u001b[0m\u001b[1;32m      3\u001b[0m \u001b[0;34m\u001b[0m\u001b[0m\n\u001b[1;32m      4\u001b[0m \u001b[0;34m\u001b[0m\u001b[0m\n\u001b[1;32m      5\u001b[0m data_files = {\n",
            "\u001b[0;31mImportError\u001b[0m: cannot import name 'load_metric' from 'datasets' (/usr/local/lib/python3.11/dist-packages/datasets/__init__.py)",
            "",
            "\u001b[0;31m---------------------------------------------------------------------------\u001b[0;32m\nNOTE: If your import is failing due to a missing package, you can\nmanually install dependencies using either !pip or !apt.\n\nTo view examples of installing some common dependencies, click the\n\"Open Examples\" button below.\n\u001b[0;31m---------------------------------------------------------------------------\u001b[0m\n"
          ],
          "errorDetails": {
            "actions": [
              {
                "action": "open_url",
                "actionText": "Open Examples",
                "url": "/notebooks/snippets/importing_libraries.ipynb"
              }
            ]
          }
        }
      ]
    },
    {
      "cell_type": "code",
      "metadata": {
        "id": "rsOrQPBOEVOy"
      },
      "source": [
        "# We need to specify the input and output column\n",
        "input_column = \"path\"\n",
        "output_column = \"emotion\""
      ],
      "execution_count": null,
      "outputs": []
    },
    {
      "cell_type": "code",
      "metadata": {
        "id": "-gh7fQ1XEpC7"
      },
      "source": [
        "# we need to distinguish the unique labels in our SER dataset\n",
        "label_list = train_dataset.unique(output_column)\n",
        "label_list.sort()  # Let's sort it for determinism\n",
        "num_labels = len(label_list)\n",
        "print(f\"A classification problem with {num_labels} classes: {label_list}\")"
      ],
      "execution_count": null,
      "outputs": []
    },
    {
      "cell_type": "markdown",
      "metadata": {
        "id": "4TkGYrVTFR6Y"
      },
      "source": [
        "In order to preprocess the audio into our classification model, we need to set up the relevant Wav2Vec2 assets regarding our language in this case `lighteternal/wav2vec2-large-xlsr-53-greek` fine-tuned by [Dimitris Papadopoulos](https://huggingface.co/lighteternal/wav2vec2-large-xlsr-53-greek). To handle the context representations in any audio length we use a merge strategy plan (pooling mode) to concatenate that 3D representations into 2D representations.\n",
        "\n",
        "There are three merge strategies `mean`, `sum`, and `max`. In this example, we achieved better results on the mean approach. In the following, we need to initiate the config and the feature extractor from the Dimitris model."
      ]
    },
    {
      "cell_type": "code",
      "metadata": {
        "id": "rQrGaFohGzVo"
      },
      "source": [
        "from transformers import AutoConfig, Wav2Vec2Processor"
      ],
      "execution_count": null,
      "outputs": []
    },
    {
      "cell_type": "code",
      "metadata": {
        "id": "9Y1adr7vFrq7"
      },
      "source": [
        "model_name_or_path = \"lighteternal/wav2vec2-large-xlsr-53-greek\"\n",
        "pooling_mode = \"mean\""
      ],
      "execution_count": null,
      "outputs": []
    },
    {
      "cell_type": "code",
      "metadata": {
        "id": "AZjDSmBRGqr6"
      },
      "source": [
        "# config\n",
        "config = AutoConfig.from_pretrained(\n",
        "    model_name_or_path,\n",
        "    num_labels=num_labels,\n",
        "    label2id={label: i for i, label in enumerate(label_list)},\n",
        "    id2label={i: label for i, label in enumerate(label_list)},\n",
        "    finetuning_task=\"wav2vec2_clf\",\n",
        ")\n",
        "setattr(config, 'pooling_mode', pooling_mode)"
      ],
      "execution_count": null,
      "outputs": []
    },
    {
      "cell_type": "code",
      "metadata": {
        "id": "ZXVl9qW1Gw_-"
      },
      "source": [
        "processor = Wav2Vec2Processor.from_pretrained(model_name_or_path,)\n",
        "target_sampling_rate = processor.feature_extractor.sampling_rate\n",
        "print(f\"The target sampling rate: {target_sampling_rate}\")"
      ],
      "execution_count": null,
      "outputs": []
    },
    {
      "cell_type": "markdown",
      "metadata": {
        "id": "CbGuYgLqHXZg"
      },
      "source": [
        "# Preprocess Data"
      ]
    },
    {
      "cell_type": "markdown",
      "metadata": {
        "id": "qLk-eM1DFjtE"
      },
      "source": [
        "So far, we downloaded, loaded, and split the SER dataset into train and test sets. The instantiated our strategy configuration for using context representations in our classification problem SER. Now, we need to extract features from the audio path in context representation tensors and feed them into our classification model to determine the emotion in the speech.\n",
        "\n",
        "Since the audio file is saved in the `.wav` format, it is easy to use **[Librosa](https://librosa.org/doc/latest/index.html)** or others, but we suppose that the format may be in the `.mp3` format in case of generality. We found that the **[Torchaudio](https://pytorch.org/audio/stable/index.html)** library works best for reading in `.mp3` data.\n",
        "\n",
        "An audio file usually stores both its values and the sampling rate with which the speech signal was digitalized. We want to store both in the dataset and write a **map(...)** function accordingly. Also, we need to handle the string labels into integers for our specific classification task in this case, the **single-label classification** you may want to use for your **regression** or even **multi-label classification**."
      ]
    },
    {
      "cell_type": "code",
      "metadata": {
        "id": "6UqlIV3uGxDA"
      },
      "source": [
        "def speech_file_to_array_fn(path):\n",
        "    speech_array, sampling_rate = torchaudio.load(path)\n",
        "    resampler = torchaudio.transforms.Resample(sampling_rate, target_sampling_rate)\n",
        "    speech = resampler(speech_array).squeeze().numpy()\n",
        "    return speech\n",
        "\n",
        "def label_to_id(label, label_list):\n",
        "\n",
        "    if len(label_list) > 0:\n",
        "        return label_list.index(label) if label in label_list else -1\n",
        "\n",
        "    return label\n",
        "\n",
        "def preprocess_function(examples):\n",
        "    speech_list = [speech_file_to_array_fn(path) for path in examples[input_column]]\n",
        "    target_list = [label_to_id(label, label_list) for label in examples[output_column]]\n",
        "\n",
        "    result = processor(speech_list, sampling_rate=target_sampling_rate)\n",
        "    result[\"labels\"] = list(target_list)\n",
        "\n",
        "    return result"
      ],
      "execution_count": null,
      "outputs": []
    },
    {
      "cell_type": "code",
      "metadata": {
        "id": "ioP8FfR2GxHi"
      },
      "source": [
        "train_dataset = train_dataset.map(\n",
        "    preprocess_function,\n",
        "    batch_size=100,\n",
        "    batched=True,\n",
        "    num_proc=4\n",
        ")\n",
        "eval_dataset = eval_dataset.map(\n",
        "    preprocess_function,\n",
        "    batch_size=100,\n",
        "    batched=True,\n",
        "    num_proc=4\n",
        ")"
      ],
      "execution_count": null,
      "outputs": []
    },
    {
      "cell_type": "code",
      "metadata": {
        "id": "eu1qcRucHk6d"
      },
      "source": [
        "idx = 0\n",
        "print(f\"Training input_values: {train_dataset[idx]['input_values']}\")\n",
        "print(f\"Training attention_mask: {train_dataset[idx]['attention_mask']}\")\n",
        "print(f\"Training labels: {train_dataset[idx]['labels']} - {train_dataset[idx]['emotion']}\")"
      ],
      "execution_count": null,
      "outputs": []
    },
    {
      "cell_type": "markdown",
      "metadata": {
        "id": "HcrEgJO9Hmx7"
      },
      "source": [
        "Great, now we've successfully read all the audio files, resampled the audio files to 16kHz, and mapped each audio to the corresponding label."
      ]
    },
    {
      "cell_type": "markdown",
      "metadata": {
        "id": "QL7q6DfcH0Fs"
      },
      "source": [
        "## Model\n",
        "\n",
        "Before diving into the training part, we need to build our classification model based on the merge strategy."
      ]
    },
    {
      "cell_type": "code",
      "metadata": {
        "id": "uJZoC4T5HpuP"
      },
      "source": [
        "from dataclasses import dataclass\n",
        "from typing import Optional, Tuple\n",
        "import torch\n",
        "from transformers.file_utils import ModelOutput\n",
        "\n",
        "\n",
        "@dataclass\n",
        "class SpeechClassifierOutput(ModelOutput):\n",
        "    loss: Optional[torch.FloatTensor] = None\n",
        "    logits: torch.FloatTensor = None\n",
        "    hidden_states: Optional[Tuple[torch.FloatTensor]] = None\n",
        "    attentions: Optional[Tuple[torch.FloatTensor]] = None\n"
      ],
      "execution_count": null,
      "outputs": []
    },
    {
      "cell_type": "code",
      "metadata": {
        "id": "Fv62ShDsH5DZ"
      },
      "source": [
        "import torch\n",
        "import torch.nn as nn\n",
        "from torch.nn import BCEWithLogitsLoss, CrossEntropyLoss, MSELoss\n",
        "\n",
        "from transformers.models.wav2vec2.modeling_wav2vec2 import (\n",
        "    Wav2Vec2PreTrainedModel,\n",
        "    Wav2Vec2Model\n",
        ")\n",
        "\n",
        "\n",
        "class Wav2Vec2ClassificationHead(nn.Module):\n",
        "    \"\"\"Head for wav2vec classification task.\"\"\"\n",
        "\n",
        "    def __init__(self, config):\n",
        "        super().__init__()\n",
        "        self.dense = nn.Linear(config.hidden_size, config.hidden_size)\n",
        "        self.dropout = nn.Dropout(config.final_dropout)\n",
        "        self.out_proj = nn.Linear(config.hidden_size, config.num_labels)\n",
        "\n",
        "    def forward(self, features, **kwargs):\n",
        "        x = features\n",
        "        x = self.dropout(x)\n",
        "        x = self.dense(x)\n",
        "        x = torch.tanh(x)\n",
        "        x = self.dropout(x)\n",
        "        x = self.out_proj(x)\n",
        "        return x\n",
        "\n",
        "\n",
        "class Wav2Vec2ForSpeechClassification(Wav2Vec2PreTrainedModel):\n",
        "    def __init__(self, config):\n",
        "        super().__init__(config)\n",
        "        self.num_labels = config.num_labels\n",
        "        self.pooling_mode = config.pooling_mode\n",
        "        self.config = config\n",
        "\n",
        "        self.wav2vec2 = Wav2Vec2Model(config)\n",
        "        self.classifier = Wav2Vec2ClassificationHead(config)\n",
        "\n",
        "        self.init_weights()\n",
        "\n",
        "    def freeze_feature_extractor(self):\n",
        "        self.wav2vec2.feature_extractor._freeze_parameters()\n",
        "\n",
        "    def merged_strategy(\n",
        "            self,\n",
        "            hidden_states,\n",
        "            mode=\"mean\"\n",
        "    ):\n",
        "        if mode == \"mean\":\n",
        "            outputs = torch.mean(hidden_states, dim=1)\n",
        "        elif mode == \"sum\":\n",
        "            outputs = torch.sum(hidden_states, dim=1)\n",
        "        elif mode == \"max\":\n",
        "            outputs = torch.max(hidden_states, dim=1)[0]\n",
        "        else:\n",
        "            raise Exception(\n",
        "                \"The pooling method hasn't been defined! Your pooling mode must be one of these ['mean', 'sum', 'max']\")\n",
        "\n",
        "        return outputs\n",
        "\n",
        "    def forward(\n",
        "            self,\n",
        "            input_values,\n",
        "            attention_mask=None,\n",
        "            output_attentions=None,\n",
        "            output_hidden_states=None,\n",
        "            return_dict=None,\n",
        "            labels=None,\n",
        "    ):\n",
        "        return_dict = return_dict if return_dict is not None else self.config.use_return_dict\n",
        "        outputs = self.wav2vec2(\n",
        "            input_values,\n",
        "            attention_mask=attention_mask,\n",
        "            output_attentions=output_attentions,\n",
        "            output_hidden_states=output_hidden_states,\n",
        "            return_dict=return_dict,\n",
        "        )\n",
        "        hidden_states = outputs[0]\n",
        "        hidden_states = self.merged_strategy(hidden_states, mode=self.pooling_mode)\n",
        "        logits = self.classifier(hidden_states)\n",
        "\n",
        "        loss = None\n",
        "        if labels is not None:\n",
        "            if self.config.problem_type is None:\n",
        "                if self.num_labels == 1:\n",
        "                    self.config.problem_type = \"regression\"\n",
        "                elif self.num_labels > 1 and (labels.dtype == torch.long or labels.dtype == torch.int):\n",
        "                    self.config.problem_type = \"single_label_classification\"\n",
        "                else:\n",
        "                    self.config.problem_type = \"multi_label_classification\"\n",
        "\n",
        "            if self.config.problem_type == \"regression\":\n",
        "                loss_fct = MSELoss()\n",
        "                loss = loss_fct(logits.view(-1, self.num_labels), labels)\n",
        "            elif self.config.problem_type == \"single_label_classification\":\n",
        "                loss_fct = CrossEntropyLoss()\n",
        "                loss = loss_fct(logits.view(-1, self.num_labels), labels.view(-1))\n",
        "            elif self.config.problem_type == \"multi_label_classification\":\n",
        "                loss_fct = BCEWithLogitsLoss()\n",
        "                loss = loss_fct(logits, labels)\n",
        "\n",
        "        if not return_dict:\n",
        "            output = (logits,) + outputs[2:]\n",
        "            return ((loss,) + output) if loss is not None else output\n",
        "\n",
        "        return SpeechClassifierOutput(\n",
        "            loss=loss,\n",
        "            logits=logits,\n",
        "            hidden_states=outputs.hidden_states,\n",
        "            attentions=outputs.attentions,\n",
        "        )\n"
      ],
      "execution_count": null,
      "outputs": []
    },
    {
      "cell_type": "markdown",
      "metadata": {
        "id": "OrBrR1b7zvUL"
      },
      "source": [
        "## Training\n",
        "\n",
        "The data is processed so that we are ready to start setting up the training pipeline. We will make use of 🤗's [Trainer](https://huggingface.co/transformers/master/main_classes/trainer.html?highlight=trainer) for which we essentially need to do the following:\n",
        "\n",
        "- Define a data collator. In contrast to most NLP models, XLSR-Wav2Vec2 has a much larger input length than output length. *E.g.*, a sample of input length 50000 has an output length of no more than 100. Given the large input sizes, it is much more efficient to pad the training batches dynamically meaning that all training samples should only be padded to the longest sample in their batch and not the overall longest sample. Therefore, fine-tuning XLSR-Wav2Vec2 requires a special padding data collator, which we will define below\n",
        "\n",
        "- Evaluation metric. During training, the model should be evaluated on the word error rate. We should define a `compute_metrics` function accordingly\n",
        "\n",
        "- Load a pretrained checkpoint. We need to load a pretrained checkpoint and configure it correctly for training.\n",
        "\n",
        "- Define the training configuration.\n",
        "\n",
        "After having fine-tuned the model, we will correctly evaluate it on the test data and verify that it has indeed learned to correctly transcribe speech."
      ]
    },
    {
      "cell_type": "markdown",
      "metadata": {
        "id": "Ji9-n1eUIKZc"
      },
      "source": [
        "### Set-up Trainer\n",
        "\n",
        "Let's start by defining the data collator. The code for the data collator was copied from [this example](https://github.com/huggingface/transformers/blob/9a06b6b11bdfc42eea08fa91d0c737d1863c99e3/examples/research_projects/wav2vec2/run_asr.py#L81).\n",
        "\n",
        "Without going into too many details, in contrast to the common data collators, this data collator treats the `input_values` and `labels` differently and thus applies to separate padding functions on them (again making use of XLSR-Wav2Vec2's context manager). This is necessary because in speech input and output are of different modalities meaning that they should not be treated by the same padding function.\n",
        "Analogous to the common data collators, the padding tokens in the labels with `-100` so that those tokens are **not** taken into account when computing the loss."
      ]
    },
    {
      "cell_type": "code",
      "metadata": {
        "id": "rkM0VLIwy903"
      },
      "source": [
        "from dataclasses import dataclass\n",
        "from typing import Dict, List, Optional, Union\n",
        "import torch\n",
        "\n",
        "import transformers\n",
        "from transformers import Wav2Vec2Processor\n",
        "\n",
        "\n",
        "@dataclass\n",
        "class DataCollatorCTCWithPadding:\n",
        "    \"\"\"\n",
        "    Data collator that will dynamically pad the inputs received.\n",
        "    Args:\n",
        "        processor (:class:`~transformers.Wav2Vec2Processor`)\n",
        "            The processor used for proccessing the data.\n",
        "        padding (:obj:`bool`, :obj:`str` or :class:`~transformers.tokenization_utils_base.PaddingStrategy`, `optional`, defaults to :obj:`True`):\n",
        "            Select a strategy to pad the returned sequences (according to the model's padding side and padding index)\n",
        "            among:\n",
        "            * :obj:`True` or :obj:`'longest'`: Pad to the longest sequence in the batch (or no padding if only a single\n",
        "              sequence if provided).\n",
        "            * :obj:`'max_length'`: Pad to a maximum length specified with the argument :obj:`max_length` or to the\n",
        "              maximum acceptable input length for the model if that argument is not provided.\n",
        "            * :obj:`False` or :obj:`'do_not_pad'` (default): No padding (i.e., can output a batch with sequences of\n",
        "              different lengths).\n",
        "        max_length (:obj:`int`, `optional`):\n",
        "            Maximum length of the ``input_values`` of the returned list and optionally padding length (see above).\n",
        "        max_length_labels (:obj:`int`, `optional`):\n",
        "            Maximum length of the ``labels`` returned list and optionally padding length (see above).\n",
        "        pad_to_multiple_of (:obj:`int`, `optional`):\n",
        "            If set will pad the sequence to a multiple of the provided value.\n",
        "            This is especially useful to enable the use of Tensor Cores on NVIDIA hardware with compute capability >=\n",
        "            7.5 (Volta).\n",
        "    \"\"\"\n",
        "\n",
        "    processor: Wav2Vec2Processor\n",
        "    padding: Union[bool, str] = True\n",
        "    max_length: Optional[int] = None\n",
        "    max_length_labels: Optional[int] = None\n",
        "    pad_to_multiple_of: Optional[int] = None\n",
        "    pad_to_multiple_of_labels: Optional[int] = None\n",
        "\n",
        "    def __call__(self, features: List[Dict[str, Union[List[int], torch.Tensor]]]) -> Dict[str, torch.Tensor]:\n",
        "        input_features = [{\"input_values\": feature[\"input_values\"]} for feature in features]\n",
        "        label_features = [feature[\"labels\"] for feature in features]\n",
        "\n",
        "        d_type = torch.long if isinstance(label_features[0], int) else torch.float\n",
        "\n",
        "        batch = self.processor.pad(\n",
        "            input_features,\n",
        "            padding=self.padding,\n",
        "            max_length=self.max_length,\n",
        "            pad_to_multiple_of=self.pad_to_multiple_of,\n",
        "            return_tensors=\"pt\",\n",
        "        )\n",
        "\n",
        "        batch[\"labels\"] = torch.tensor(label_features, dtype=d_type)\n",
        "\n",
        "        return batch"
      ],
      "execution_count": null,
      "outputs": []
    },
    {
      "cell_type": "code",
      "metadata": {
        "id": "-YhJ0OA4RxQe"
      },
      "source": [
        "data_collator = DataCollatorCTCWithPadding(processor=processor, padding=True)"
      ],
      "execution_count": null,
      "outputs": []
    },
    {
      "cell_type": "markdown",
      "metadata": {
        "id": "mYxy2IR-KcU2"
      },
      "source": [
        "Next, the evaluation metric is defined. There are many pre-defined metrics for classification/regression problems, but in this case, we would continue with just **Accuracy** for classification and **MSE** for regression. You can define other metrics on your own."
      ]
    },
    {
      "cell_type": "code",
      "metadata": {
        "id": "LL8I5MKvPnth"
      },
      "source": [
        "is_regression = False"
      ],
      "execution_count": null,
      "outputs": []
    },
    {
      "cell_type": "code",
      "metadata": {
        "id": "XK26Z6IfR36K"
      },
      "source": [
        "import numpy as np\n",
        "from transformers import EvalPrediction\n",
        "\n",
        "\n",
        "def compute_metrics(p: EvalPrediction):\n",
        "    preds = p.predictions[0] if isinstance(p.predictions, tuple) else p.predictions\n",
        "    preds = np.squeeze(preds) if is_regression else np.argmax(preds, axis=1)\n",
        "\n",
        "    if is_regression:\n",
        "        return {\"mse\": ((preds - p.label_ids) ** 2).mean().item()}\n",
        "    else:\n",
        "        return {\"accuracy\": (preds == p.label_ids).astype(np.float32).mean().item()}"
      ],
      "execution_count": null,
      "outputs": []
    },
    {
      "cell_type": "markdown",
      "metadata": {
        "id": "ZsH_nKJdK28o"
      },
      "source": [
        "Now, we can load the pretrained XLSR-Wav2Vec2 checkpoint into our classification model with a pooling strategy."
      ]
    },
    {
      "cell_type": "code",
      "metadata": {
        "id": "0Tl6iKAUR4EL"
      },
      "source": [
        "model = Wav2Vec2ForSpeechClassification.from_pretrained(\n",
        "    model_name_or_path,\n",
        "    config=config,\n",
        ")"
      ],
      "execution_count": null,
      "outputs": []
    },
    {
      "cell_type": "markdown",
      "metadata": {
        "id": "bqF4rNMzI1M5"
      },
      "source": [
        "The first component of XLSR-Wav2Vec2 consists of a stack of CNN layers that are used to extract acoustically meaningful - but contextually independent - features from the raw speech signal. This part of the model has already been sufficiently trained during pretraining and as stated in the [paper](https://arxiv.org/pdf/2006.13979.pdf) does not need to be fine-tuned anymore.\n",
        "Thus, we can set the `requires_grad` to `False` for all parameters of the *feature extraction* part."
      ]
    },
    {
      "cell_type": "code",
      "metadata": {
        "id": "KHMhxFGoR4Hb"
      },
      "source": [
        "model.freeze_feature_extractor()"
      ],
      "execution_count": null,
      "outputs": []
    },
    {
      "cell_type": "markdown",
      "metadata": {
        "id": "n0HzBneBK84G"
      },
      "source": [
        "In a final step, we define all parameters related to training.\n",
        "To give more explanation on some of the parameters:\n",
        "- `learning_rate` and `weight_decay` were heuristically tuned until fine-tuning has become stable. Note that those parameters strongly depend on the Common Voice dataset and might be suboptimal for other speech datasets.\n",
        "\n",
        "For more explanations on other parameters, one can take a look at the [docs](https://huggingface.co/transformers/master/main_classes/trainer.html?highlight=trainer#trainingarguments).\n",
        "\n",
        "**Note**: If one wants to save the trained models in his/her google drive the commented-out `output_dir` can be used instead."
      ]
    },
    {
      "cell_type": "code",
      "metadata": {
        "id": "3tPqZ12BLCJk"
      },
      "source": [
        "# from google.colab import drive\n",
        "\n",
        "# drive.mount('/gdrive')"
      ],
      "execution_count": null,
      "outputs": []
    },
    {
      "cell_type": "code",
      "metadata": {
        "id": "vUtWjldAI9-H"
      },
      "source": [
        "from transformers import TrainingArguments\n",
        "\n",
        "training_args = TrainingArguments(\n",
        "    output_dir=\"/content/wav2vec2-xlsr-greek-speech-emotion-recognition\",\n",
        "    # output_dir=\"/content/gdrive/MyDrive/wav2vec2-xlsr-greek-speech-emotion-recognition\"\n",
        "    per_device_train_batch_size=4,\n",
        "    per_device_eval_batch_size=4,\n",
        "    gradient_accumulation_steps=2,\n",
        "    evaluation_strategy=\"steps\",\n",
        "    num_train_epochs=1.0,\n",
        "    fp16=True,\n",
        "    save_steps=10,\n",
        "    eval_steps=10,\n",
        "    logging_steps=10,\n",
        "    learning_rate=1e-4,\n",
        "    save_total_limit=2,\n",
        ")"
      ],
      "execution_count": null,
      "outputs": []
    },
    {
      "cell_type": "markdown",
      "metadata": {
        "id": "XAtuL0APLZSs"
      },
      "source": [
        "For future use we can create our training script, we do it in a simple way. You can add more on you own."
      ]
    },
    {
      "cell_type": "code",
      "metadata": {
        "id": "KfW6uDolJYZv"
      },
      "source": [
        "from typing import Any, Dict, Union\n",
        "\n",
        "import torch\n",
        "from packaging import version\n",
        "from torch import nn\n",
        "\n",
        "from transformers import (\n",
        "    Trainer,\n",
        "    is_apex_available,\n",
        ")\n",
        "\n",
        "if is_apex_available():\n",
        "    from apex import amp\n",
        "\n",
        "if version.parse(torch.__version__) >= version.parse(\"1.6\"):\n",
        "    _is_native_amp_available = True\n",
        "    from torch.cuda.amp import autocast\n",
        "\n",
        "\n",
        "class CTCTrainer(Trainer):\n",
        "    def training_step(self, model: nn.Module, inputs: Dict[str, Union[torch.Tensor, Any]]) -> torch.Tensor:\n",
        "        \"\"\"\n",
        "        Perform a training step on a batch of inputs.\n",
        "\n",
        "        Subclass and override to inject custom behavior.\n",
        "\n",
        "        Args:\n",
        "            model (:obj:`nn.Module`):\n",
        "                The model to train.\n",
        "            inputs (:obj:`Dict[str, Union[torch.Tensor, Any]]`):\n",
        "                The inputs and targets of the model.\n",
        "\n",
        "                The dictionary will be unpacked before being fed to the model. Most models expect the targets under the\n",
        "                argument :obj:`labels`. Check your model's documentation for all accepted arguments.\n",
        "\n",
        "        Return:\n",
        "            :obj:`torch.Tensor`: The tensor with training loss on this batch.\n",
        "        \"\"\"\n",
        "\n",
        "        model.train()\n",
        "        inputs = self._prepare_inputs(inputs)\n",
        "\n",
        "        if self.use_amp:\n",
        "            with autocast():\n",
        "                loss = self.compute_loss(model, inputs)\n",
        "        else:\n",
        "            loss = self.compute_loss(model, inputs)\n",
        "\n",
        "        if self.args.gradient_accumulation_steps > 1:\n",
        "            loss = loss / self.args.gradient_accumulation_steps\n",
        "\n",
        "        if self.use_amp:\n",
        "            self.scaler.scale(loss).backward()\n",
        "        elif self.use_apex:\n",
        "            with amp.scale_loss(loss, self.optimizer) as scaled_loss:\n",
        "                scaled_loss.backward()\n",
        "        elif self.deepspeed:\n",
        "            self.deepspeed.backward(loss)\n",
        "        else:\n",
        "            loss.backward()\n",
        "\n",
        "        return loss.detach()\n"
      ],
      "execution_count": null,
      "outputs": []
    },
    {
      "cell_type": "markdown",
      "metadata": {
        "id": "Qv7Ju3qYJeJn"
      },
      "source": [
        "Now, all instances can be passed to Trainer and we are ready to start training!"
      ]
    },
    {
      "cell_type": "code",
      "metadata": {
        "id": "nEFkfK45JYiZ"
      },
      "source": [
        "trainer = CTCTrainer(\n",
        "    model=model,\n",
        "    data_collator=data_collator,\n",
        "    args=training_args,\n",
        "    compute_metrics=compute_metrics,\n",
        "    train_dataset=train_dataset,\n",
        "    eval_dataset=eval_dataset,\n",
        "    tokenizer=processor.feature_extractor,\n",
        ")"
      ],
      "execution_count": null,
      "outputs": []
    },
    {
      "cell_type": "markdown",
      "metadata": {
        "id": "0gGLwJAOLtDg"
      },
      "source": [
        "### Training"
      ]
    },
    {
      "cell_type": "markdown",
      "metadata": {
        "id": "UpN6xlWCLxJ7"
      },
      "source": [
        "Training will take between 10 and 60 minutes depending on the GPU allocated to this notebook.\n",
        "\n",
        "In case you want to use this google colab to fine-tune your model, you should make sure that your training doesn't stop due to inactivity. A simple hack to prevent this is to paste the following code into the console of this tab (right mouse click -> inspect -> Console tab and insert code)."
      ]
    },
    {
      "cell_type": "markdown",
      "metadata": {
        "id": "zyYZH7YZL8a9"
      },
      "source": [
        "```javascript\n",
        "function ConnectButton(){\n",
        "    console.log(\"Connect pushed\");\n",
        "    document.querySelector(\"#top-toolbar > colab-connect-button\").shadowRoot.querySelector(\"#connect\").click()\n",
        "}\n",
        "setInterval(ConnectButton,60000);\n",
        "```"
      ]
    },
    {
      "cell_type": "code",
      "metadata": {
        "id": "6M8bNvLLJnG1"
      },
      "source": [
        "trainer.train()"
      ],
      "execution_count": null,
      "outputs": []
    },
    {
      "cell_type": "markdown",
      "metadata": {
        "id": "3prIN9eiMBHo"
      },
      "source": [
        "The training loss goes down and we can see that the Acurracy on the test set also improves nicely. Because this notebook is just for demonstration purposes, we can stop here.\n",
        "\n",
        "The resulting model of this notebook has been saved to [m3hrdadfi/wav2vec2-xlsr-greek-speech-emotion-recognition](https://huggingface.co/m3hrdadfi/wav2vec2-xlsr-greek-speech-emotion-recognition)\n",
        "\n",
        "As a final check, let's load the model and verify that it indeed has learned to recognize the emotion in the speech.\n",
        "\n",
        "Let's first load the pretrained checkpoint."
      ]
    },
    {
      "cell_type": "markdown",
      "metadata": {
        "id": "VsaOTx_FVm0i"
      },
      "source": [
        "## Evaluation"
      ]
    },
    {
      "cell_type": "code",
      "metadata": {
        "id": "4tGNY7hRXO44"
      },
      "source": [
        "import librosa\n",
        "from sklearn.metrics import classification_report"
      ],
      "execution_count": null,
      "outputs": []
    },
    {
      "cell_type": "code",
      "metadata": {
        "id": "IYxg1Tfo2VUw"
      },
      "source": [
        "test_dataset = load_dataset(\"csv\", data_files={\"test\": \"/content/data/test.csv\"}, delimiter=\"\\t\")[\"test\"]\n",
        "test_dataset"
      ],
      "execution_count": null,
      "outputs": []
    },
    {
      "cell_type": "code",
      "metadata": {
        "id": "QgZFkMDHW_Um"
      },
      "source": [
        "device = torch.device(\"cuda\" if torch.cuda.is_available() else \"cpu\")\n",
        "print(f\"Device: {device}\")"
      ],
      "execution_count": null,
      "outputs": []
    },
    {
      "cell_type": "code",
      "metadata": {
        "id": "-ESFEXeaWgua"
      },
      "source": [
        "model_name_or_path = \"m3hrdadfi/wav2vec2-xlsr-greek-speech-emotion-recognition\"\n",
        "config = AutoConfig.from_pretrained(model_name_or_path)\n",
        "processor = Wav2Vec2Processor.from_pretrained(model_name_or_path)\n",
        "model = Wav2Vec2ForSpeechClassification.from_pretrained(model_name_or_path).to(device)"
      ],
      "execution_count": null,
      "outputs": []
    },
    {
      "cell_type": "code",
      "metadata": {
        "id": "BkEd4w8IV7kZ"
      },
      "source": [
        "def speech_file_to_array_fn(batch):\n",
        "    speech_array, sampling_rate = torchaudio.load(batch[\"path\"])\n",
        "    speech_array = speech_array.squeeze().numpy()\n",
        "    speech_array = librosa.resample(np.asarray(speech_array), sampling_rate, processor.feature_extractor.sampling_rate)\n",
        "\n",
        "    batch[\"speech\"] = speech_array\n",
        "    return batch\n",
        "\n",
        "\n",
        "def predict(batch):\n",
        "    features = processor(batch[\"speech\"], sampling_rate=processor.feature_extractor.sampling_rate, return_tensors=\"pt\", padding=True)\n",
        "\n",
        "    input_values = features.input_values.to(device)\n",
        "    attention_mask = features.attention_mask.to(device)\n",
        "\n",
        "    with torch.no_grad():\n",
        "        logits = model(input_values, attention_mask=attention_mask).logits\n",
        "\n",
        "    pred_ids = torch.argmax(logits, dim=-1).detach().cpu().numpy()\n",
        "    batch[\"predicted\"] = pred_ids\n",
        "    return batch"
      ],
      "execution_count": null,
      "outputs": []
    },
    {
      "cell_type": "code",
      "metadata": {
        "id": "S4P6P6XwW85p"
      },
      "source": [
        "test_dataset = test_dataset.map(speech_file_to_array_fn)"
      ],
      "execution_count": null,
      "outputs": []
    },
    {
      "cell_type": "code",
      "metadata": {
        "id": "K_oZJzHsXKHv"
      },
      "source": [
        "result = test_dataset.map(predict, batched=True, batch_size=8)"
      ],
      "execution_count": null,
      "outputs": []
    },
    {
      "cell_type": "code",
      "metadata": {
        "id": "BnfJLZvAaxTo"
      },
      "source": [
        "label_names = [config.id2label[i] for i in range(config.num_labels)]\n",
        "label_names"
      ],
      "execution_count": null,
      "outputs": []
    },
    {
      "cell_type": "code",
      "metadata": {
        "id": "vRtajzvTabeH"
      },
      "source": [
        "y_true = [config.label2id[name] for name in result[\"emotion\"]]\n",
        "y_pred = result[\"predicted\"]\n",
        "\n",
        "print(y_true[:5])\n",
        "print(y_pred[:5])"
      ],
      "execution_count": null,
      "outputs": []
    },
    {
      "cell_type": "code",
      "metadata": {
        "id": "tUt5rIppXrzl"
      },
      "source": [
        "print(classification_report(y_true, y_pred, target_names=label_names))"
      ],
      "execution_count": null,
      "outputs": []
    },
    {
      "cell_type": "markdown",
      "metadata": {
        "id": "Ylb2Z6Xke2ro"
      },
      "source": [
        "# Prediction"
      ]
    },
    {
      "cell_type": "code",
      "metadata": {
        "id": "EQzCioPhWIiX"
      },
      "source": [
        "import torch\n",
        "import torch.nn as nn\n",
        "import torch.nn.functional as F\n",
        "import torchaudio\n",
        "from transformers import AutoConfig, Wav2Vec2Processor\n",
        "\n",
        "import librosa\n",
        "import IPython.display as ipd\n",
        "import numpy as np\n",
        "import pandas as pd"
      ],
      "execution_count": null,
      "outputs": []
    },
    {
      "cell_type": "code",
      "metadata": {
        "id": "DocavTvQWIr_"
      },
      "source": [
        "device = torch.device(\"cuda\" if torch.cuda.is_available() else \"cpu\")\n",
        "model_name_or_path = \"m3hrdadfi/wav2vec2-xlsr-greek-speech-emotion-recognition\"\n",
        "config = AutoConfig.from_pretrained(model_name_or_path)\n",
        "processor = Wav2Vec2Processor.from_pretrained(model_name_or_path)\n",
        "sampling_rate = processor.feature_extractor.sampling_rate\n",
        "model = Wav2Vec2ForSpeechClassification.from_pretrained(model_name_or_path).to(device)"
      ],
      "execution_count": null,
      "outputs": []
    },
    {
      "cell_type": "code",
      "metadata": {
        "id": "1SSs95o9WIvK"
      },
      "source": [
        "def speech_file_to_array_fn(path, sampling_rate):\n",
        "    speech_array, _sampling_rate = torchaudio.load(path)\n",
        "    resampler = torchaudio.transforms.Resample(_sampling_rate)\n",
        "    speech = resampler(speech_array).squeeze().numpy()\n",
        "    return speech\n",
        "\n",
        "\n",
        "def predict(path, sampling_rate):\n",
        "    speech = speech_file_to_array_fn(path, sampling_rate)\n",
        "    features = processor(speech, sampling_rate=sampling_rate, return_tensors=\"pt\", padding=True)\n",
        "\n",
        "    input_values = features.input_values.to(device)\n",
        "    attention_mask = features.attention_mask.to(device)\n",
        "\n",
        "    with torch.no_grad():\n",
        "        logits = model(input_values, attention_mask=attention_mask).logits\n",
        "\n",
        "    scores = F.softmax(logits, dim=1).detach().cpu().numpy()[0]\n",
        "    outputs = [{\"Emotion\": config.id2label[i], \"Score\": f\"{round(score * 100, 3):.1f}%\"} for i, score in enumerate(scores)]\n",
        "    return outputs\n",
        "\n",
        "\n",
        "STYLES = \"\"\"\n",
        "<style>\n",
        "div.display_data {\n",
        "    margin: 0 auto;\n",
        "    max-width: 500px;\n",
        "}\n",
        "table.xxx {\n",
        "    margin: 50px !important;\n",
        "    float: right !important;\n",
        "    clear: both !important;\n",
        "}\n",
        "table.xxx td {\n",
        "    min-width: 300px !important;\n",
        "    text-align: center !important;\n",
        "}\n",
        "</style>\n",
        "\"\"\".strip()\n",
        "\n",
        "def prediction(df_row):\n",
        "    path, emotion = df_row[\"path\"], df_row[\"emotion\"]\n",
        "    df = pd.DataFrame([{\"Emotion\": emotion, \"Sentence\": \"    \"}])\n",
        "    setup = {\n",
        "        'border': 2,\n",
        "        'show_dimensions': True,\n",
        "        'justify': 'center',\n",
        "        'classes': 'xxx',\n",
        "        'escape': False,\n",
        "    }\n",
        "    ipd.display(ipd.HTML(STYLES + df.to_html(**setup) + \"<br />\"))\n",
        "    speech, sr = torchaudio.load(path)\n",
        "    speech = speech[0].numpy().squeeze()\n",
        "    speech = librosa.resample(np.asarray(speech), sr, sampling_rate)\n",
        "    ipd.display(ipd.Audio(data=np.asarray(speech), autoplay=True, rate=sampling_rate))\n",
        "\n",
        "    outputs = predict(path, sampling_rate)\n",
        "    r = pd.DataFrame(outputs)\n",
        "    ipd.display(ipd.HTML(STYLES + r.to_html(**setup) + \"<br />\"))"
      ],
      "execution_count": null,
      "outputs": []
    },
    {
      "cell_type": "code",
      "metadata": {
        "id": "UD7oUP20YwYT"
      },
      "source": [
        "test = pd.read_csv(\"/content/data/test.csv\", sep=\"\\t\")\n",
        "test.head()"
      ],
      "execution_count": null,
      "outputs": []
    },
    {
      "cell_type": "code",
      "metadata": {
        "id": "FlJO2LfVWIyT"
      },
      "source": [
        "prediction(test.iloc[0])"
      ],
      "execution_count": null,
      "outputs": []
    },
    {
      "cell_type": "code",
      "metadata": {
        "id": "hzoKOgpoWI1K"
      },
      "source": [
        "prediction(test.iloc[1])"
      ],
      "execution_count": null,
      "outputs": []
    },
    {
      "cell_type": "code",
      "metadata": {
        "id": "7nqwbTTXSfMO"
      },
      "source": [
        "prediction(test.iloc[2])"
      ],
      "execution_count": null,
      "outputs": []
    }
  ]
}